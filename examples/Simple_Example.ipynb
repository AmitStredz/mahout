{
 "nbformat": 4,
 "nbformat_minor": 0,
 "metadata": {
  "colab": {
   "provenance": [],
   "authorship_tag": "ABX9TyNiuKjMe3+6/4/lQ29BvXn0",
   "include_colab_link": true
  },
  "kernelspec": {
   "name": "python3",
   "display_name": "Python 3"
  },
  "language_info": {
   "name": "python"
  }
 },
 "cells": [
  {
   "cell_type": "markdown",
   "metadata": {
    "id": "view-in-github",
    "colab_type": "text"
   },
   "source": [
    "<a href=\"https://colab.research.google.com/github/rawkintrevo/mahout/blob/mahout-2198/examples/Simple_Example.ipynb\" target=\"_parent\"><img src=\"https://colab.research.google.com/assets/colab-badge.svg\" alt=\"Open In Colab\"/></a>"
   ]
  },
  {
   "cell_type": "code",
   "source": [
    "!pip install git+https://github.com/apache/mahout.git@main\n"
   ],
   "metadata": {
    "colab": {
     "base_uri": "https://localhost:8080/"
    },
    "id": "lNDTZhztd2dp",
    "outputId": "ea3b9e41-43a8-44e7-9daf-e62e71d93143"
   },
   "execution_count": null,
   "outputs": []
  },
  {
   "cell_type": "code",
   "execution_count": 2,
   "metadata": {
    "id": "M3O-QEdbd1Y2"
   },
   "outputs": [],
   "source": [
    "# Import the QuantumComputer class from your package\n",
    "from qumat.qumat import QuMat\n",
    "\n"
   ]
  },
  {
   "cell_type": "code",
   "source": [
    "# Create an instance of QuantumComputer with a specific backend configuration\n",
    "backend_config = {\n",
    "    'backend_name': 'qiskit',  # Replace with the actual backend you want to use\n",
    "    'backend_options': {\n",
    "        'simulator_type': 'aer_simulator',\n",
    "        'shots': 1024  # Number of shots for measurement\n",
    "    }\n",
    "}\n",
    "qumat = QuMat(backend_config)\n",
    "\n",
    "# Create a quantum circuit\n",
    "qumat.create_empty_circuit(num_qubits=2)\n",
    "\n",
    "# Apply quantum gates to the circuit\n",
    "qumat.apply_hadamard_gate(qubit_index=0)\n",
    "qumat.apply_cnot_gate(control_qubit_index=0, target_qubit_index=1)\n",
    "qumat.apply_pauli_x_gate(qubit_index=0)\n"
   ],
   "metadata": {
    "id": "56zR0RS4eNuY"
   },
   "execution_count": 9,
   "outputs": []
  },
  {
   "cell_type": "code",
   "source": [
    "\n",
    "# Measure the quantum circuit\n",
    "measurement_results = qumat.circuit.measure_all()"
   ],
   "metadata": {
    "id": "1FaC7deljh5I"
   },
   "execution_count": 10,
   "outputs": []
  },
  {
   "cell_type": "code",
   "source": [
    "# Display the measurement results\n",
    "print(\"Measurement Results:\", measurement_results)"
   ],
   "metadata": {
    "colab": {
     "base_uri": "https://localhost:8080/"
    },
    "id": "YEOzZJzXjPsU",
    "outputId": "6ffd7923-f93e-4858-a280-8f40a79ab468"
   },
   "execution_count": 14,
   "outputs": [
    {
     "output_type": "stream",
     "name": "stdout",
     "text": [
      "Measurement Results: None\n"
     ]
    }
   ]
  },
  {
   "cell_type": "code",
   "source": [
    "#qiskit object method\n",
    "qumat.circuit.draw()"
   ],
   "metadata": {
    "colab": {
     "base_uri": "https://localhost:8080/",
     "height": 156
    },
    "id": "Mz8gUmf3etu7",
    "outputId": "917d37bb-10bc-443b-9b7d-ff83ee8e16ac"
   },
   "execution_count": 15,
   "outputs": [
    {
     "output_type": "execute_result",
     "data": {
      "text/plain": [
       "         ┌───┐     ┌───┐ ░ ┌─┐    ░ ┌─┐   \n",
       "    q_0: ┤ H ├──■──┤ X ├─░─┤M├────░─┤M├───\n",
       "         └───┘┌─┴─┐└───┘ ░ └╥┘┌─┐ ░ └╥┘┌─┐\n",
       "    q_1: ─────┤ X ├──────░──╫─┤M├─░──╫─┤M├\n",
       "              └───┘      ░  ║ └╥┘ ░  ║ └╥┘\n",
       " meas: 2/═══════════════════╩══╩═════╬══╬═\n",
       "                            0  1     ║  ║ \n",
       "meas0: 2/════════════════════════════╩══╩═\n",
       "                                     0  1 "
      ],
      "text/html": [
       "<pre style=\"word-wrap: normal;white-space: pre;background: #fff0;line-height: 1.1;font-family: &quot;Courier New&quot;,Courier,monospace\">         ┌───┐     ┌───┐ ░ ┌─┐    ░ ┌─┐   \n",
       "    q_0: ┤ H ├──■──┤ X ├─░─┤M├────░─┤M├───\n",
       "         └───┘┌─┴─┐└───┘ ░ └╥┘┌─┐ ░ └╥┘┌─┐\n",
       "    q_1: ─────┤ X ├──────░──╫─┤M├─░──╫─┤M├\n",
       "              └───┘      ░  ║ └╥┘ ░  ║ └╥┘\n",
       " meas: 2/═══════════════════╩══╩═════╬══╬═\n",
       "                            0  1     ║  ║ \n",
       "meas0: 2/════════════════════════════╩══╩═\n",
       "                                     0  1 </pre>"
      ]
     },
     "metadata": {},
     "execution_count": 15
    }
   ]
  },
  {
   "cell_type": "code",
   "source": [
    "# Also requires qiskit\n",
    "from qiskit import execute\n",
    "# needs to be added as a method...\n",
    "job = execute(qumat.circuit, qumat.backend, shots=1024)  # Simulate the circuit 1024 times\n",
    "\n",
    "\n",
    "result = job.result()\n",
    "counts = result.get_counts()\n",
    "\n",
    "print(\"Measurement Results:\", counts)"
   ],
   "metadata": {
    "colab": {
     "base_uri": "https://localhost:8080/"
    },
    "id": "HrhrQVIEjrzz",
    "outputId": "25c993a7-b894-4a9b-96a3-7fe9aead9422"
   },
   "execution_count": 16,
   "outputs": [
    {
     "output_type": "stream",
     "name": "stdout",
     "text": [
      "Measurement Results: {'10 10': 503, '01 01': 521}\n"
     ]
    }
   ]
  },
  {
   "cell_type": "code",
   "source": [],
   "metadata": {
    "id": "jVBuEr2EleH1"
   },
   "execution_count": null,
   "outputs": []
  }
 ]
}
